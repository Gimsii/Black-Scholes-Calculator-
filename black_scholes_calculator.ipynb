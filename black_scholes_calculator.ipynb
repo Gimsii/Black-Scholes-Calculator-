{
 "cells": [
  {
   "cell_type": "code",
   "execution_count": 2,
   "metadata": {},
   "outputs": [],
   "source": [
    "import numpy as np \n",
    "from scipy.stats import norm"
   ]
  },
  {
   "cell_type": "code",
   "execution_count": 3,
   "metadata": {},
   "outputs": [],
   "source": [
    "def black_scholes_calc(S, T, E, sigma, r):\n",
    "    '''Calculates the European call option, V, using the Black-Scholes Formula with inputs\n",
    "    S: stock price\n",
    "    T: maturation time\n",
    "    E: exercise price\n",
    "    sigma: volatility\n",
    "    r: interest rate'''\n",
    "    \n",
    "    x_1 = 1/(sigma * np.sqrt(T)) * (np.log(S/E) + (r + (sigma ** 2)/2) * T)\n",
    "    x_2 = 1/(sigma * np.sqrt(T)) * (np.log(S/E) + (r - (sigma ** 2)/2) * T)\n",
    "    \n",
    "    phi_1 = norm.cdf(x_1)\n",
    "    phi_2 = norm.cdf(x_2)\n",
    "    \n",
    "    V = S * phi_1 - E * np.exp(-r * T) * phi_2\n",
    "    \n",
    "    return V"
   ]
  },
  {
   "cell_type": "code",
   "execution_count": null,
   "metadata": {},
   "outputs": [],
   "source": []
  }
 ],
 "metadata": {
  "kernelspec": {
   "display_name": "Python 3",
   "language": "python",
   "name": "python3"
  },
  "language_info": {
   "codemirror_mode": {
    "name": "ipython",
    "version": 3
   },
   "file_extension": ".py",
   "mimetype": "text/x-python",
   "name": "python",
   "nbconvert_exporter": "python",
   "pygments_lexer": "ipython3",
   "version": "3.8.3"
  }
 },
 "nbformat": 4,
 "nbformat_minor": 4
}
